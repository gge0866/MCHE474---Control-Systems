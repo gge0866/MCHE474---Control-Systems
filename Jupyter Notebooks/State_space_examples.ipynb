{
 "cells": [
  {
   "cell_type": "markdown",
   "metadata": {},
   "source": [
    "# Simulations using State Variable Models"
   ]
  },
  {
   "cell_type": "markdown",
   "metadata": {},
   "source": [
    "## Two Mass-Spring-Damper System"
   ]
  },
  {
   "cell_type": "markdown",
   "metadata": {},
   "source": [
    "We can model a system using state variable models. We will start by modeling the two mass-spring-damper system shown below.\n",
    "\n",
    "<img width=\"33%\" src=\"figures/TwoMassSpringDamper_force.png\" alt=\"Two mass-spring-damper\"/>\n",
    "\n",
    "The equations of motion for this system are:\n",
    "\n",
    "$m_1 \\ddot{p}=-c_1(\\dot{p}-\\dot{q})-k_1(p-q)+u$\n",
    "\n",
    "$m_2 \\ddot{q}= c_1(\\dot{p}-\\dot{q})+k_1(p-q)-c_2\\dot{q}-k_2q=c_1\\dot{p}+k_1p-(c_1+c_2)\\dot{q}-(k_1+k_2)q$\n",
    "\n",
    "This system has two equations of motion and each is a second-order equation. In general, equation order cooresponds to number of state variables needed. Therefore, each equation has two state variables (for a total of four).\n",
    "\n",
    "When we write this in matrix form, we get:\n",
    "\n",
    "$$\n",
    "\\boldsymbol{\\dot{x}}=\n",
    "\\begin{bmatrix}\n",
    "0 & 1 & 0 & 0\\\\\n",
    "-\\frac{k_1}{m_1} & -\\frac{c_1}{m_1} & \\frac{k_1}{m_1} & \\frac{c_1}{m_1}\\\\\n",
    "0 & 0 & 0 & 1\\\\\n",
    "\\frac{k_1}{m_2} & \\frac{c_1}{m_2} & -\\frac{k_1+k_2}{m_2} & -\\frac{c_1+c_2}{m_2}\\\\\n",
    "\\end{bmatrix}\n",
    "\\boldsymbol{x}\n",
    "+\n",
    "\\begin{bmatrix}\n",
    "0\\\\\n",
    "\\frac{1}{m_1}\\\\\n",
    "0\\\\\n",
    "0\n",
    "\\end{bmatrix}\n",
    "u\n",
    "$$\n",
    "\n",
    "Assuming we only care about the postions of $m_1$ and $m_2$, the output of the system is:\n",
    "\n",
    "$$\n",
    "y=\n",
    "\\begin{bmatrix}\n",
    "1 & 0 & 0 & 0\\\\\n",
    "0 & 0 & 1 & 0\n",
    "\\end{bmatrix}\n",
    "\\boldsymbol{x}\n",
    "+\n",
    "\\begin{bmatrix}\n",
    "0\\\\\n",
    "0\n",
    "\\end{bmatrix}\n",
    "u\n",
    "$$\n",
    "\n",
    "With that out of the way, on to the fun. Coding!\n",
    "\n",
    "As always with python, start by importing all of the packages that you will need."
   ]
  },
  {
   "cell_type": "code",
   "execution_count": 1,
   "metadata": {},
   "outputs": [],
   "source": [
    "import numpy as np # basic package for doing math with arrays (a bunch of numbers)\n",
    "import matplotlib.pyplot as plt # basic plotting package\n",
    "import control # control system tools"
   ]
  },
  {
   "cell_type": "markdown",
   "metadata": {},
   "source": [
    "Then we need to construct our state space system. Let's define some arbitrary parameter values, because this is a simple theoretical example system and the specific values aren't that vital."
   ]
  },
  {
   "cell_type": "code",
   "execution_count": 2,
   "metadata": {},
   "outputs": [],
   "source": [
    "# arbitrary parameters\n",
    "k1 = 20 # N/m\n",
    "k2 = 60 # N/m\n",
    "c1 = 0.5 # N-s/m\n",
    "c2 = 4 # N-s/m\n",
    "m1 = 3 # kg\n",
    "m2 = 6 # kg"
   ]
  },
  {
   "cell_type": "markdown",
   "metadata": {},
   "source": [
    "To construct the state space system, we need the four matrices, $A$, $B$, $C$, $D$. We will use a numpy matrix. Pay close attention to how the numpy matrix is constructed."
   ]
  },
  {
   "cell_type": "code",
   "execution_count": 3,
   "metadata": {},
   "outputs": [],
   "source": [
    "A = np.matrix([\n",
    "             [0, 1, 0, 0],\n",
    "             [-k1/m1, -c1/m1, k1/m1, c1/m1],\n",
    "             [0, 0, 0, 1],\n",
    "             [k1/m2, c1/m2, -(k1+k2)/m2, -(c1+c2)/m2]\n",
    "             ])"
   ]
  },
  {
   "cell_type": "markdown",
   "metadata": {},
   "source": [
    "The A matrix needs to be a square. Since we have four states, we need a 4x4 matrix. Note that we have 4 bracketed arrays of numbers each with 4 comma separated values in them."
   ]
  },
  {
   "cell_type": "code",
   "execution_count": 4,
   "metadata": {},
   "outputs": [],
   "source": [
    "B = np.matrix([\n",
    "             [0],\n",
    "             [1/m1],\n",
    "             [0],\n",
    "             [0]\n",
    "             ])"
   ]
  },
  {
   "cell_type": "markdown",
   "metadata": {},
   "source": [
    "The $B$ matrix gets it's shape from the number of states and inputs. We have 4 states and one input ($u(t)$), so this matrix is 4x1."
   ]
  },
  {
   "cell_type": "code",
   "execution_count": 5,
   "metadata": {},
   "outputs": [],
   "source": [
    "C = np.matrix([\n",
    "             [1, 0, 0, 0],\n",
    "             [0, 0, 1, 0]\n",
    "             ])"
   ]
  },
  {
   "cell_type": "markdown",
   "metadata": {},
   "source": [
    "We want 2 outputs, $p$ and $q$, and have 4 states. So the $C$ matrix is 2x4."
   ]
  },
  {
   "cell_type": "code",
   "execution_count": 6,
   "metadata": {},
   "outputs": [],
   "source": [
    "D = np.matrix([\n",
    "             [0],\n",
    "             [0]\n",
    "             ])"
   ]
  },
  {
   "cell_type": "markdown",
   "metadata": {},
   "source": [
    "Finally, we want 2 outputs and have 1 input, so the $D$ matrix is 2x1.\n",
    "\n",
    "Now we can have the control systems toolbox put this together. We can then get the step response just like we did for the DC motor. In this case, the step input is a force input from $0$ to $1$ Newton. (Remember that the input to our mass-spring-damper system is a force.)"
   ]
  },
  {
   "cell_type": "code",
   "execution_count": 7,
   "metadata": {},
   "outputs": [
    {
     "name": "stdout",
     "output_type": "stream",
     "text": [
      "(2, 200)\n"
     ]
    }
   ],
   "source": [
    "# generate the python representation of the state space model\n",
    "sys = control.StateSpace(A, B, C, D)\n",
    "\n",
    "# define time samples over which to simulate your system\n",
    "time = np.arange(0,20,0.1) # np.arange(start_time,end_time,time_spacing)\n",
    "\n",
    "# ouput and time over which the system was simulated ('t' is not so important since we're giving 'time')\n",
    "t, output_matrix = control.step_response(sys, T=time, squeeze=True)\n",
    "\n",
    "# note that since we had two outputs, 'output_matrix' is a numpy matrix with shape 2x200\n",
    "print(np.shape(output_matrix))"
   ]
  },
  {
   "cell_type": "code",
   "execution_count": 8,
   "metadata": {
    "code_folding": []
   },
   "outputs": [
    {
     "data": {
      "image/png": "[encoded data removed]",
      "text/plain": [
       "<Figure size 432x288 with 1 Axes>"
      ]
     },
     "metadata": {
      "needs_background": "light"
     },
     "output_type": "display_data"
    }
   ],
   "source": [
    "#############################################################\n",
    "fig = plt.figure(figsize=(6,4))\n",
    "ax = plt.gca()\n",
    "plt.subplots_adjust(bottom=0.17, left=0.17, top=0.96, right=0.96)\n",
    "\n",
    "# Change the axis units font\n",
    "plt.setp(ax.get_ymajorticklabels(),fontsize=18)\n",
    "plt.setp(ax.get_xmajorticklabels(),fontsize=18)\n",
    "\n",
    "ax.spines['right'].set_color('none')\n",
    "ax.spines['top'].set_color('none')\n",
    "\n",
    "ax.xaxis.set_ticks_position('bottom')\n",
    "ax.yaxis.set_ticks_position('left')\n",
    "\n",
    "# Turn on the plot grid and set appropriate linestyle and color\n",
    "ax.grid(True,linestyle=':', color='0.75')\n",
    "ax.set_axisbelow(True)\n",
    "\n",
    "# Define the X and Y axis labels\n",
    "plt.xlabel('Time (s)', fontsize=22, weight='bold', labelpad=5)\n",
    "plt.ylabel('Position', fontsize=22, weight='bold', labelpad=10)\n",
    "\n",
    "# data to be plotted\n",
    "plt.plot(time, output_matrix[0,:], linewidth=2, linestyle='-', label=r'$m_1$')\n",
    "plt.plot(time, output_matrix[1,:], linewidth=2, linestyle='--', label=r'$m_2$')\n",
    "# uncomment below and set limits if needed\n",
    "# plt.xlim(0,5)\n",
    "plt.ylim(-0.01,0.12)\n",
    "\n",
    "# Create the legend, then fix the fontsize\n",
    "leg = plt.legend(loc='upper right', ncol = 1, fancybox=True, )\n",
    "ltext  = leg.get_texts()\n",
    "plt.setp(ltext,fontsize=16)\n",
    "\n",
    "# Adjust the page layout filling the page using the new tight_layout command\n",
    "plt.tight_layout(pad=0.5)\n",
    "\n",
    "# save the figure as a high-res pdf in the current folder\n",
    "# plt.savefig('plot_filename.pdf')\n",
    "\n",
    "# plt.show()"
   ]
  },
  {
   "cell_type": "markdown",
   "metadata": {},
   "source": [
    "So we get two position responses because we have two masses.\n",
    "\n",
    "A fun thing about state space models is the ability to simulate them with initial conditions on the states, in this case initial positions and velocities of the two masses. This is done very similarly to the step response where this time we use `control.initial_response`. The initial conditions need to be assigned in the order cooresponding to the order of the states in our system definition. In our case, $\\boldsymbol{x}=[p,\\dot{p},q,\\dot{q}]^T$."
   ]
  },
  {
   "cell_type": "code",
   "execution_count": 9,
   "metadata": {},
   "outputs": [],
   "source": [
    "# define the initial conditions\n",
    "x_init = [1,0,-1,0] # [p, p_dot, q, q_dot]\n",
    "\n",
    "# pass the system 'sys', time 'time', and initial conditions 'x_init' to the 'initial response' function\n",
    "t, p_out_initial = control.initial_response(sys,T=time, X0=x_init,squeeze=True)"
   ]
  },
  {
   "cell_type": "code",
   "execution_count": 10,
   "metadata": {},
   "outputs": [
    {
     "data": {
      "image/png": "[encoded data removed]",
      "text/plain": [
       "<Figure size 432x288 with 1 Axes>"
      ]
     },
     "metadata": {
      "needs_background": "light"
     },
     "output_type": "display_data"
    }
   ],
   "source": [
    "#############################################################\n",
    "fig = plt.figure(figsize=(6,4))\n",
    "ax = plt.gca()\n",
    "plt.subplots_adjust(bottom=0.17, left=0.17, top=0.96, right=0.96)\n",
    "\n",
    "# Change the axis units font\n",
    "plt.setp(ax.get_ymajorticklabels(),fontsize=18)\n",
    "plt.setp(ax.get_xmajorticklabels(),fontsize=18)\n",
    "\n",
    "ax.spines['right'].set_color('none')\n",
    "ax.spines['top'].set_color('none')\n",
    "\n",
    "ax.xaxis.set_ticks_position('bottom')\n",
    "ax.yaxis.set_ticks_position('left')\n",
    "\n",
    "# Turn on the plot grid and set appropriate linestyle and color\n",
    "ax.grid(True,linestyle=':', color='0.75')\n",
    "ax.set_axisbelow(True)\n",
    "\n",
    "# Define the X and Y axis labels\n",
    "plt.xlabel('Time (s)', fontsize=22, weight='bold', labelpad=5)\n",
    "plt.ylabel('Position', fontsize=22, weight='bold', labelpad=10)\n",
    "\n",
    "plt.plot(time, p_out_initial[0,:], linewidth=2, linestyle='-', label=r'$m_1$')\n",
    "plt.plot(time, p_out_initial[1,:], linewidth=2, linestyle='--', label=r'$m_2$')\n",
    "# uncomment below and set limits if needed\n",
    "# plt.xlim(0,5)\n",
    "# plt.ylim(-0.01,0.15)\n",
    "\n",
    "# Create the legend, then fix the fontsize\n",
    "leg = plt.legend(loc='upper right', ncol = 1, fancybox=True, )\n",
    "ltext  = leg.get_texts()\n",
    "plt.setp(ltext,fontsize=16)\n",
    "\n",
    "# Adjust the page layout filling the page using the new tight_layout command\n",
    "plt.tight_layout(pad=0.5)\n",
    "\n",
    "# save the figure as a high-res pdf in the current folder\n",
    "# plt.savefig('plot_filename.pdf')\n",
    "\n",
    "# plt.show()"
   ]
  },
  {
   "cell_type": "markdown",
   "metadata": {},
   "source": [
    "In this case with these initial conditions, the response is a little more interesting to look at and we can see at points where the motion of one of the masses influences the response of the other."
   ]
  },
  {
   "cell_type": "markdown",
   "metadata": {},
   "source": [
    "## Pendulum with Force Input"
   ]
  },
  {
   "cell_type": "markdown",
   "metadata": {},
   "source": [
    "Let's now look at modeling the state space form for the pendulum below.\n",
    "\n",
    "<img width=\"33%\" src=\"figures/Bar_pendulum_with_force.png\" alt=\"Pendulum with force\"/>\n",
    "\n",
    "The force $f(t)$ is always horizontal. The equation of motion for this system is:\n",
    "\n",
    "$I\\ddot{\\theta}=lf(t)\\cos(\\theta) - mg\\frac{l}{2}\\sin(\\theta)$\n",
    "\n",
    "To put this into state-space form, the equation must be linearized. Linearize about $\\theta=0$.\n",
    "\n",
    "$I\\ddot{\\theta}=lf(t) - mg\\frac{l}{2}\\theta$\n",
    "\n",
    "Since this is a second-order system, we will need two states.\n",
    "\n",
    "$$\\boldsymbol{x}=\n",
    "\\begin{bmatrix}\n",
    "x_1\\\\\n",
    "x_2\n",
    "\\end{bmatrix}\n",
    "=\n",
    "\\begin{bmatrix}\n",
    "\\theta\\\\\n",
    "\\dot{\\theta}\n",
    "\\end{bmatrix}\n",
    "$$\n",
    "\n",
    "The derivative of the state vector is:\n",
    "\n",
    "$$\\dot{\\boldsymbol{x}}=\n",
    "\\begin{bmatrix}\n",
    "\\dot{x}_1\\\\\n",
    "\\dot{x}_2\n",
    "\\end{bmatrix}\n",
    "=\n",
    "\\begin{bmatrix}\n",
    "\\dot{\\theta}\\\\\n",
    "\\ddot{\\theta}\n",
    "\\end{bmatrix}\n",
    "$$\n",
    "\n",
    "Plug in the equation of motion for $\\ddot{\\theta}$ and replace all $\\theta$ and $\\dot{\\theta}$ with $x_1$ and $x_2$ where appropriate according to our state vector.\n",
    "\n",
    "$$\\dot{\\boldsymbol{x}}=\n",
    "\\begin{bmatrix}\n",
    "\\dot{x}_1\\\\\n",
    "\\dot{x}_2\n",
    "\\end{bmatrix}\n",
    "=\n",
    "\\begin{bmatrix}\n",
    "\\dot{\\theta}\\\\\n",
    "-\\frac{mgl}{2I}\\theta + \\frac{lf(t)}{I}\n",
    "\\end{bmatrix}\n",
    "=\n",
    "\\begin{bmatrix}\n",
    "x_2\\\\\n",
    "-\\frac{mgl}{2I}x_1 + \\frac{lf(t)}{I}\n",
    "\\end{bmatrix}\n",
    "$$\n",
    "\n",
    "Converting this to matrix form gives:\n",
    "\n",
    "$$\\dot{\\boldsymbol{x}}=\n",
    "\\begin{bmatrix}\n",
    "0 & 1\\\\\n",
    "-\\frac{mgl}{2I} & 0\n",
    "\\end{bmatrix}\n",
    "\\boldsymbol{x}\n",
    "+\n",
    "\\begin{bmatrix}\n",
    "0\\\\\n",
    "\\frac{l}{I}\n",
    "\\end{bmatrix}\n",
    "f(t)\n",
    "$$\n",
    "\n",
    "Assuming for the output that we want both states:\n",
    "\n",
    "$$\n",
    "\\boldsymbol{y}=\n",
    "\\begin{bmatrix}\n",
    "1 & 0\\\\\n",
    "0 & 1\n",
    "\\end{bmatrix}\n",
    "\\boldsymbol{x}\n",
    "+\n",
    "\\begin{bmatrix}\n",
    "0\\\\\n",
    "0\n",
    "\\end{bmatrix}\n",
    "f\n",
    "$$\n",
    "\n",
    "Now we can code this."
   ]
  },
  {
   "cell_type": "code",
   "execution_count": 11,
   "metadata": {},
   "outputs": [],
   "source": [
    "m = 1 #kg\n",
    "l = 2 #m\n",
    "I = 1/3*m*l**2\n",
    "g = 9.8 #m/s^2\n",
    "\n",
    "\n",
    "A = np.matrix([\n",
    "             [0, 1],\n",
    "             [-(m*g*l)/(2*I), 0],\n",
    "             ])\n",
    "\n",
    "B = np.matrix([\n",
    "             [0],\n",
    "             [l/I],\n",
    "             ])\n",
    "\n",
    "C = np.matrix([\n",
    "             [1, 0],\n",
    "             [0, 1]\n",
    "             ])\n",
    "\n",
    "D = np.matrix([\n",
    "             [0],\n",
    "             [0]\n",
    "             ])"
   ]
  }
 ],
 "metadata": {
  "interpreter": {
   "hash": "cd4569746abdf66306436f89e2fc5721a062be2f201efa8cc0d29144319fb89d"
  },
  "kernelspec": {
   "display_name": "Python 3 (ipykernel)",
   "language": "python",
   "name": "python3"
  },
  "language_info": {
   "codemirror_mode": {
    "name": "ipython",
    "version": 3
   },
   "file_extension": ".py",
   "mimetype": "text/x-python",
   "name": "python",
   "nbconvert_exporter": "python",
   "pygments_lexer": "ipython3",
   "version": "3.9.7"
  },
  "toc": {
   "base_numbering": 1,
   "nav_menu": {},
   "number_sections": true,
   "sideBar": true,
   "skip_h1_title": false,
   "title_cell": "Table of Contents",
   "title_sidebar": "Contents",
   "toc_cell": false,
   "toc_position": {},
   "toc_section_display": true,
   "toc_window_display": true
  }
 },
 "nbformat": 4,
 "nbformat_minor": 2
}
